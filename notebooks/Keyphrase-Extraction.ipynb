{
 "cells": [
  {
   "cell_type": "code",
   "execution_count": 18,
   "id": "2d5aedbd",
   "metadata": {},
   "outputs": [],
   "source": [
    "import re\n",
    "import numpy as np\n",
    "import pandas as pd\n",
    "\n",
    "import warnings\n",
    "warnings.filterwarnings(\"ignore\")\n",
    "pd.set_option('display.max_columns',None)"
   ]
  },
  {
   "cell_type": "markdown",
   "id": "911416ec",
   "metadata": {},
   "source": [
    "## Loading the Dataset"
   ]
  },
  {
   "cell_type": "code",
   "execution_count": 19,
   "id": "29b9c382",
   "metadata": {},
   "outputs": [
    {
     "data": {
      "text/html": [
       "<div>\n",
       "<style scoped>\n",
       "    .dataframe tbody tr th:only-of-type {\n",
       "        vertical-align: middle;\n",
       "    }\n",
       "\n",
       "    .dataframe tbody tr th {\n",
       "        vertical-align: top;\n",
       "    }\n",
       "\n",
       "    .dataframe thead th {\n",
       "        text-align: right;\n",
       "    }\n",
       "</style>\n",
       "<table border=\"1\" class=\"dataframe\">\n",
       "  <thead>\n",
       "    <tr style=\"text-align: right;\">\n",
       "      <th></th>\n",
       "      <th>comments</th>\n",
       "    </tr>\n",
       "  </thead>\n",
       "  <tbody>\n",
       "    <tr>\n",
       "      <th>0</th>\n",
       "      <td>I have a very good command of CSS, thanks to t...</td>\n",
       "    </tr>\n",
       "    <tr>\n",
       "      <th>1</th>\n",
       "      <td>UNREAL!!!!</td>\n",
       "    </tr>\n",
       "    <tr>\n",
       "      <th>2</th>\n",
       "      <td>This is my first time of leaving a comment on ...</td>\n",
       "    </tr>\n",
       "    <tr>\n",
       "      <th>3</th>\n",
       "      <td>I attest to the quality of Bob's teaching, I u...</td>\n",
       "    </tr>\n",
       "    <tr>\n",
       "      <th>4</th>\n",
       "      <td>Hands down the BEST react tutorial I have ever...</td>\n",
       "    </tr>\n",
       "  </tbody>\n",
       "</table>\n",
       "</div>"
      ],
      "text/plain": [
       "                                            comments\n",
       "0  I have a very good command of CSS, thanks to t...\n",
       "1                                         UNREAL!!!!\n",
       "2  This is my first time of leaving a comment on ...\n",
       "3  I attest to the quality of Bob's teaching, I u...\n",
       "4  Hands down the BEST react tutorial I have ever..."
      ]
     },
     "execution_count": 19,
     "metadata": {},
     "output_type": "execute_result"
    }
   ],
   "source": [
    "df = pd.read_csv('./data/specific_video_comments.csv')\n",
    "df.head()"
   ]
  },
  {
   "cell_type": "code",
   "execution_count": 20,
   "id": "aeecea3d",
   "metadata": {},
   "outputs": [
    {
     "data": {
      "text/html": [
       "<div>\n",
       "<style scoped>\n",
       "    .dataframe tbody tr th:only-of-type {\n",
       "        vertical-align: middle;\n",
       "    }\n",
       "\n",
       "    .dataframe tbody tr th {\n",
       "        vertical-align: top;\n",
       "    }\n",
       "\n",
       "    .dataframe thead th {\n",
       "        text-align: right;\n",
       "    }\n",
       "</style>\n",
       "<table border=\"1\" class=\"dataframe\">\n",
       "  <thead>\n",
       "    <tr style=\"text-align: right;\">\n",
       "      <th></th>\n",
       "      <th>comments</th>\n",
       "    </tr>\n",
       "  </thead>\n",
       "  <tbody>\n",
       "    <tr>\n",
       "      <th>0</th>\n",
       "      <td>I have a very good command of CSS, thanks to t...</td>\n",
       "    </tr>\n",
       "    <tr>\n",
       "      <th>1</th>\n",
       "      <td>UNREAL!!!!</td>\n",
       "    </tr>\n",
       "    <tr>\n",
       "      <th>2</th>\n",
       "      <td>This is my first time of leaving a comment on ...</td>\n",
       "    </tr>\n",
       "    <tr>\n",
       "      <th>3</th>\n",
       "      <td>I attest to the quality of Bob's teaching, I u...</td>\n",
       "    </tr>\n",
       "    <tr>\n",
       "      <th>4</th>\n",
       "      <td>Hands down the BEST react tutorial I have ever...</td>\n",
       "    </tr>\n",
       "  </tbody>\n",
       "</table>\n",
       "</div>"
      ],
      "text/plain": [
       "                                            comments\n",
       "0  I have a very good command of CSS, thanks to t...\n",
       "1                                         UNREAL!!!!\n",
       "2  This is my first time of leaving a comment on ...\n",
       "3  I attest to the quality of Bob's teaching, I u...\n",
       "4  Hands down the BEST react tutorial I have ever..."
      ]
     },
     "execution_count": 20,
     "metadata": {},
     "output_type": "execute_result"
    }
   ],
   "source": [
    "df.dropna(inplace=True)\n",
    "df.head()"
   ]
  },
  {
   "cell_type": "code",
   "execution_count": 21,
   "id": "315b15da",
   "metadata": {},
   "outputs": [
    {
     "data": {
      "text/plain": [
       "(112, 1)"
      ]
     },
     "execution_count": 21,
     "metadata": {},
     "output_type": "execute_result"
    }
   ],
   "source": [
    "df.shape"
   ]
  },
  {
   "cell_type": "code",
   "execution_count": 22,
   "id": "0ca754cf",
   "metadata": {},
   "outputs": [
    {
     "name": "stdout",
     "output_type": "stream",
     "text": [
      "I have a very good command of CSS thanks to this course My react knowledge has gone to a whole new level UNREAL This is my first time of leaving a comment on a youtube channel I attest to the quality of Bobs teaching I used his original course on Scrimba to advance my reactjs skills thank you much sir Hands down the BEST react tutorial I have ever done it ultimately boils down to the teaching methods Bob uses Love the way Scrimba platform is set up too Couldnt praise the Scrimba team enough Big ups The way he teaches is amazing I love how each topic flows so easily to the next it answers the why we should learn this I wish public schools would teach like this you can tell a passionate teacher from those teaching for paycheck This hands down by far the best course Ive found Its the combination of the brief and insightful instructions with constant challenges Ive been trying to learn web dev for a while now and feel like Im progress is finally starting Thanks  Brilliant way of teaching reinforcing all the concepts  youre a star Glad I discovered this react course  far more effective than all others I have seen and Im an experienced dev  nobody havent motivated me this much he speaks like he wants me do that from the bottom of his heart and his voice tone Ill do it with no exception Thank you for doing such a great work I loved the way you teach i have actuallt took this course on scrimba and tbh i can say hes the best teacher i have ever seen in my life i have learned sooo much about react from him and forever will be greatfull  Finished a  hour tutorial and completed all the challenges One of the best react tutorials for beginners thank you for this tutorial Finished the course and onto expanding Tenzies and getting into this solo project Great course thanks again for your quality work and effort Hands down the best course so far Its long but I love that every basics is covered by live app building and I know exactly why I am using propsstates etc Thanks Ive watched this video for  minutes and then discovered that you can watch the same content right in the Scrimba but with ability to pause and edit the code at any point Thats a cool interactivity level This is definitely the best React Course Hands down best teacher excellent pace and concise to the point simply explained concepts in a perfect order so any beginner can follow If you dont understand something just go back a few chapters and do the exercises again after all its just practice No way This is the second time FCC uploaded just the course I really needed at the right time Hi Bob This teaching method is absolute magic Takes me back to my school days to remember some of my teachers who taught with absolute passion I would like to see tonnes of your courses in all aspects of full stack development You have etched React in my memory for a life time Bravo Take a bow sir An hour and a half and everything until now  is so clear amazing Looking foward to finish it Great teacher Tks so much  Im very thankful for this course this guy is not only teaching me to use react js but also teaching me how to read and write a code I can say Bob is the best constructor ive ever seen by nature i love challenges and Bob teaches the way i like not like other gurus who uploads hundreds of hours course materials for people to watch what they are doing out there Hats off for you Bob Ziroll I have practices my CSS skills also besides React I paused at  when the Tenzies game was explained and proceeded to try and make the whole thing without watching another single second of video and thanks to your flawless teaching techniques I managed to do the whole thing on my own I didnt even know what React was  days ago thanks a lot Bob The thing I like about Bob Zirolls teaching is spaced learning and repetition I took one of his React course on scrimba a couple months back  one of the best beginner friendly courses on React  simplifies everything from state to props Hes such a gem of a teacher Perfect The pace of the tutorial and the parallelism between passively and actively learning is just phenomenal Thanks for another great tutorial Happy coding everyone The Clearest english Ive ever heard in my life easy to understand how I wish all those great courses in here were like this Congrats I must say this course is soooo good Every video first forces you to think and apply what you have learned Every concept has been broken down to simplify and make it easier to understand The scrimba site has been built so well Havent seen anything like this where we can interact with the video live I like the way we can pause and the code is ours Thanks Bob for this wonderful course You are a very good instructor  This is quite an amazing React Course for beginners At  currently I have learned almost all the basics Great Job by the creator Thanks a lot for the knowledge transfer in such a simple way Excellent Tutorial If you follow the instructions properly and do the challenges it teaches you how to think in react when you encounter a problem and solve it easily Thank you Bob and keep up the good work Your teaching is great  Guys Im not kidding my client just approached me with a requirement for a React Website and FCC just dropped this brilliant tutorial on it The timing is amazing Never comment but felt compelled because of how spot on this course is Getting so much out of it and cant wait to power through the rest Thank you a hundred times over Great course I wish all tutorials on YT were this perfect Hardest part for me was to figure out how to write code that moved updated note to the beginning of the array but after your explanation I was able to do code if myself Thank you for doing such a great job Bob youre an absolute genius The pace of this course is just perfect We are grateful Today I just finished the course I learned more in this course than I did at university lol Im very grateful for this amazing course thank you  What I love about this course is that it includes the why things are the way they are Most tutorials out there just write the code but dont explain the reasoning behind it This is the best React course you can afford I finished the first version of this in  on Scrimba and successfully got the job as a Frontend developer Its very clean simple and capaciously course thanks to Bob for this masterpiece Dont even think about not to finish this guys  and I believe this is gonna be one of the best course as it seems well learn like we do in school as the instructor is guiding what we have to do instead of just going all the way to the end just writing and reading code   The best React tutorial Ive ever seen Explain everything clear and easy to understand stand Thank you very much Bob for this amazing learning opportunity I was struggling to learn React and lacked the motivation to use it before but thanks to this video I finally managed to understand why React is used by many companies and I made my decision to motivate myself to move from LAMP to MERN teck stack for good and start creating applications with it I already updated my LinkedIn profile and my resume and I noticed this is drawing attention of more recruiters on the network This is honestly incredible Ive been following along for about hrs now and the pacing is perfect for new learners Am just hours into this courseand most honestly I can say that this is one of the best course on web dev ive ever used hats off to FCC and Bob Ziroll This course is amazing he explained so many concepts and so many things clearly I started this course and Im glad I did I was spending like  mins to get started lol I think they removed that babel script link  but its still needed Ps first  mins into the video And this has been amazing so far I love that this is a really beginner course It really starts from  Not like other courses Beginner course and then shows how to make a snake game without explaining anything  hrs into the tutorial and this is an insanely good tutorial  Amazing pace and clarity Best Course Found on Internet I have almost took  to  React Course but I found this really easy and useful Hats off to  Bob Ziroll  I really enjoyed Bobs teaching Helped me to understand React better Based on this beginners course I am really thinking of buying advance react course Its really amazing how you teach and practice React so easily Congrats youre one of the best teacher that Ive met so far Im about halfway through and Im really enjoying this course Make sure to do the practice problems as he introduces each concept  at a time to make sure that you dont overwhelm yourself with too much new information at once This is the best online course I have a taken as a teacher myself I have to say you are the best I will use your teaching methods too I am super grateful I learnt more than react from you God bless you Best react course so faram happy to come across this after strangling with react I must say u are the bestscrimba tutor are experienced and good in teaching Bob I have to admit this is terrific course on react   you are explaining  all the concepts very well Keep up on good work This is the best React Crash course Ive seen so far Taking you from zero to hero in hrs Well done Bob  This is going absolutely amazing so far getting my hands on the keyboard and trying out the challenges has been a complete success in developing my react skills Without a doubt the best beginner friendly react course that leads to expert level react skills This is awesome and Bobs explanations are some of the best Ive seen I just wish there was a follow up ideally with Bob aswell because there are many important topics that werent covered such as useContext Router and many hooks i made it till  hours in a week following up doing the challenges its absolutely amazing thank you  Veryvery perfect tuitorial to learn React Trust me guys ive tried two more tutorials before finding this masterpiece This one is THE BEST  mins in and hes making it so simple this is exactly what I needed This tutorial is really good anyone who is a beginner in react this course is for you  Bob Ziroll is really good guys trust me this tutorial contains exercises and a projects so i dont think there will be much tutorials like this Thanks Scrimba I am now a huge fan of yours both Bob and freeCodecamp team you guys are really doing great and havent seen anything like this before please keep on going this is the first time that although the video is too long but still want to fill it up with all these knowledge even though it is not my primarymother language thanks again Bob for such full and balanced course Finally I have completed this course and Iam very happy that I have coverd many difficut topics from it Now I can say that this is the best course in the world on React Everyone should watch and explore this great course Special thanks to Bob Ziroll and Free Code Camp team who made our coding journey very easy  Its just a perfect react tutorial for me  Thanks bob for your amazing teaching skill  Good thing about this course is that he teaches us react as well as css i love how he explains everything so simply its like richard feynman going from counting numbers on his hand to calculus in  pages of continuous logical thought I watched the entire course all  hours of it I have to say this is by far one of the best courses that Ive seen on any platform If youre interested in learning react please check this out it was well worth it Im halfway through this course using Scrimba platform I just came back here to comment on how really helpful and effective this course is Best instructor online I ever listened to I would trust Bob with my life  You make learning React so simple and pleasant  Thank you for this tutorial  i havent even got past the intro yet but the fact that this whole course is on an interactive website and completely free is insane What an awesome thing to do thank you to everyone who helped put this together Bob you cleared my long struggle with useEffect effectively explaining what sideeffects are and internal state sync I cant appreciate enough the quality of this one You took time to explain the basics that everyone rushes into Thanks again and best wishes I just completed the course using VS Code never got on Scrimba I can tell you Bobteaching is the best ever He dissects each topic slowly and tops it up with little practical challenges Dont skip those and you will get the most from them And dont just fastforward to his solution Try it yourself first Thanks for your genorisity Bob Much appreciated Thanks a lot for uploading this brilliant course nicely done  hours into this course and i can tell this is the best course ive ever came acrosstasks are my favourite part of this course This tutorial is of amazing quality for a free resource Thank you for explaining each concept as you go not just powering through code and hoping we keep up Had spent two days on this tutorial and it really helped me start working on react great work and thanks I remember when I first tried learning React from another instructor I was so demotivated by the time we reached props that I gave up But MAN is this guy awesome Props now stuck to the back of my head React is one of the technologies Id planned on learning this year after doing alot of backend work with python and some bootstraping and i think this course is just so much of a good thing that has happen so far to me Thanks alot FCC and SCRIMBA we really appreciate I really hope they make a Laravel course just like this one This type of teaching helps me to remain engaged and really teaches me the writing and stuff What an amazing course and to think this is free Nuts After watching for  hours now Im fully confident to do the Solo project I had never got such a confidence ever since Im learning React from the past  compete year one more hour of this course left and im moving on  thank you bob for this honestly created so much impact to my and the rest of the world right when i wanted to learn it and was browsing courses on udemy you guys drop this absolutly legends thank you soo much i have had some recent accomplishments due to this course so i want to thank you  You have contributed in knowledge of many learners like me You are inspiring Just finished this course on the Scrimba website I wanted to take a moment to thank Bob for this course Ive truly learned a lot Thank you Bob Sir Your teaching method is on another level Never enjoyed watching any course as compared to this one Hats Off A must watch for beginners intermediates and all those who want to revise or brush up their react skills I am addicted to this course seriesI have watched many courses to learn reactbtthis is the best tutorial I have ever met for learning React I still remember when I started learning react by watching your own react video couple of years ago Bute here I am again watching the new react tutorial from you again It is because I like the way you teach really Thank you sir thank you very much This one is the best react course Im stumble upon I had followed many other react courses but this one is different The way Bob teaches is amazing Right now I just finished the second project from this course and it help me with my react learning and also help me to pass out from my fear of CSS Thank you so much This is the best React tutorial I have ever seen The good thing is that he not only taught us how to write code but also made us to write code Ofcourse there are many concepts like react router domreduxtoolkit etc etcbut this is the best place to start with reactThank You soo much I have just watched for  minutes and i can already say that this course is exactly what i was looking for thank you Bob i am really looking forward to learn React Thank you Ive finally completed this react course and I just loved the way Sir Bob Ziroll taught Thank you so much for this Bob and freeCodeCamp I really appreciate this tutorial up until now I was pretty lost on how to transit from vanilla js to React and what React offers how to structure my code using components Im just hrs into the video and I feel like I should definitely drop this comment now Ive learnt alot Thank you so much I think this the channel only one globe thanks for the YouTube and all presenters and lecturers Wishing you all happy and God bless this guy really understands the art of learning and how information sticks Very well done Thank you very much You saved me This course is very useful I was always thinking that React was too difficult After I watched this video I acquired a lot of knowledge to work on my college project WOO I FINISHED IT DID THE WHOLE LAST PROJECT BY MYSELF AND ADDED SOME ANIMATIONS YOURE SUCH A GOOD TEACHER BOB D Bob is the best I have already learnt from his previous YouTube course This course is dope just finished it and I learnt so muchthe way bob goes deep and teaches u everything well is truly something else This is the BEST COURSE EVER If you are a beginner or getting back to React take this course before anything else it has great theory  a lot of practice for you to solidify what you just learned To Bob Thanks man you answered all of my beginner  intermediate doubts This is insanely amazing this free course quality is better than some paid course many thanks  Bob is a code GOAT   Amazing human and super smart Had the pleasure of working under him ALSO this is the best React tutorial hands down Bob Z is so talented at teaching Major kudos to him Obsessed with him\n"
     ]
    }
   ],
   "source": [
    "all_comments = ' '.join(df['comments'])\n",
    "\n",
    "# Remove punctuation, alphanumeric, and numeric characters\n",
    "all_comments = re.sub(r'[^a-zA-Z\\s]', '', all_comments)\n",
    "print(all_comments)"
   ]
  },
  {
   "cell_type": "markdown",
   "id": "db8587a8",
   "metadata": {},
   "source": [
    "### Keyword Extraction using Yake \n",
    "\n",
    "Yet Another Keyword Extractor (Yake)"
   ]
  },
  {
   "cell_type": "code",
   "execution_count": 37,
   "id": "e8fa82ee",
   "metadata": {},
   "outputs": [
    {
     "name": "stdout",
     "output_type": "stream",
     "text": [
      "('finding this masterpiece', 0.0)\n",
      "('React tutorial Ive', 4.900668823642887e-06)\n",
      "('Bob Zirolls teaching', 7.208252796654972e-06)\n",
      "('Sir Bob Ziroll', 8.3173986789409e-06)\n",
      "('React tutorial hands', 9.678816904888108e-06)\n",
      "('perfect react tutorial', 1.2620464711065506e-05)\n",
      "('GOOD TEACHER BOB', 1.2622600288862836e-05)\n",
      "('great job Bob', 1.2824063369587084e-05)\n",
      "('Bob Ziroll taught', 1.377607162241443e-05)\n",
      "('react great work', 1.548192514501988e-05)\n",
      "('Bobs teaching Helped', 1.564809437213072e-05)\n",
      "('teaching methods Bob', 1.8830340094547723e-05)\n",
      "('make learning React', 1.9653042368140053e-05)\n",
      "('job Bob youre', 2.1423545834489628e-05)\n",
      "('enjoyed Bobs teaching', 2.2376290294879298e-05)\n",
      "('good tutorial Amazing', 2.4913961720218385e-05)\n",
      "('learn React Trust', 2.6243092081869686e-05)\n",
      "('beginner friendly react', 2.76445869634083e-05)\n",
      "('started learning react', 2.9682102623544917e-05)\n",
      "('react video couple', 3.427510512606128e-05)\n",
      "('Bob Ziroll', 3.5330277086904496e-05)\n",
      "('great tutorial Happy', 3.53303529714975e-05)\n",
      "('level react skills', 3.5524550036925045e-05)\n",
      "('code GOAT Amazing', 3.8140441507166605e-05)\n",
      "('react router domreduxtoolkit', 4.280338892937649e-05)\n",
      "('tutorial Amazing pace', 4.3576384437555985e-05)\n",
      "('Great teacher Tks', 4.743414105272909e-05)\n",
      "('Ive finally completed', 4.7459796907862013e-05)\n",
      "('react tutorial', 4.887314943053806e-05)\n",
      "('amazing teaching skill', 5.0622611818448e-05)\n"
     ]
    }
   ],
   "source": [
    "import yake\n",
    "\n",
    "language = \"en\"\n",
    "max_ngram_size = 3\n",
    "deduplication_thresold = 0.9\n",
    "deduplication_algo = 'seqm'\n",
    "windowSize = 3\n",
    "numOfKeywords = 30\n",
    "\n",
    "kw_extractor = yake.KeywordExtractor(lan=language, n=max_ngram_size, dedupLim=deduplication_thresold, dedupFunc=deduplication_algo, windowsSize=windowSize, top=numOfKeywords, features=None)\n",
    "\n",
    "keywords = kw_extractor.extract_keywords(all_comments)\n",
    "for kw in keywords:\n",
    "  print(kw)"
   ]
  },
  {
   "cell_type": "code",
   "execution_count": null,
   "id": "ca363d6f",
   "metadata": {},
   "outputs": [],
   "source": []
  }
 ],
 "metadata": {
  "kernelspec": {
   "display_name": "youtube",
   "language": "python",
   "name": "youtube"
  },
  "language_info": {
   "codemirror_mode": {
    "name": "ipython",
    "version": 3
   },
   "file_extension": ".py",
   "mimetype": "text/x-python",
   "name": "python",
   "nbconvert_exporter": "python",
   "pygments_lexer": "ipython3",
   "version": "3.10.13"
  }
 },
 "nbformat": 4,
 "nbformat_minor": 5
}
